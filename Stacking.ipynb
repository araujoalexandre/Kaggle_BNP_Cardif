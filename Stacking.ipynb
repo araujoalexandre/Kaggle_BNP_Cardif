{
 "cells": [
  {
   "cell_type": "code",
   "execution_count": 1,
   "metadata": {
    "collapsed": false
   },
   "outputs": [],
   "source": [
    "import sys\n",
    "from datetime import datetime\n",
    "sys.path.append('../')\n",
    "\n",
    "# Custom print class\n",
    "from CustomPrint import CustomPrint\n",
    "print_ = CustomPrint()\n",
    "\n",
    "import numpy as np\n",
    "import pandas as pd\n",
    "\n",
    "%matplotlib inline\n",
    "import matplotlib.pyplot as plt\n",
    "\n",
    "# ML algo\n",
    "from RegressionLogistic import LogisticRegressionCustom\n",
    "from sklearn.ensemble import RandomForestClassifier\n",
    "import xgboost as xgb\n",
    "\n",
    "# CV split\n",
    "from sklearn.model_selection import StratifiedKFold\n",
    "\n",
    "from sklearn.metrics import log_loss, roc_curve, auc\n",
    "from scipy import stats"
   ]
  },
  {
   "cell_type": "markdown",
   "metadata": {},
   "source": [
    "### Load dataset"
   ]
  },
  {
   "cell_type": "code",
   "execution_count": 2,
   "metadata": {
    "collapsed": true
   },
   "outputs": [],
   "source": [
    "df_train = pd.read_csv('./train.csv')\n",
    "df_test = pd.read_csv('./test.csv')"
   ]
  },
  {
   "cell_type": "markdown",
   "metadata": {},
   "source": [
    "### Let's check some baseline scores"
   ]
  },
  {
   "cell_type": "code",
   "execution_count": 3,
   "metadata": {
    "collapsed": false
   },
   "outputs": [
    {
     "name": "stdout",
     "output_type": "stream",
     "text": [
      "logloss with y_true and random predictions\t\t0.999\n",
      "logloss with y_true and 0.5 predictions\t\t\t0.693\n",
      "logloss with y_true and target mean predictions\t\t0.550\n"
     ]
    }
   ],
   "source": [
    "y_true = df_train['target'].values\n",
    "\n",
    "y_hat = np.random.uniform(0, 1, len(y_true))\n",
    "print('logloss with y_true and random predictions\\t\\t{:.3f}'.format(log_loss(y_true, y_hat)))\n",
    "\n",
    "y_hat[:] = 0.5\n",
    "print('logloss with y_true and 0.5 predictions\\t\\t\\t{:.3f}'.format(log_loss(y_true, y_hat)))\n",
    "\n",
    "y_hat[:] = y_true.mean()\n",
    "print('logloss with y_true and target mean predictions\\t\\t{:.3f}'.format(log_loss(y_true, y_hat)))"
   ]
  },
  {
   "cell_type": "markdown",
   "metadata": {},
   "source": [
    "*** We manage to get 0.55 logloss without any machine learning ***<br />\n",
    "*** Can we do better ? ***"
   ]
  },
  {
   "cell_type": "markdown",
   "metadata": {},
   "source": [
    "###  Very simple processing of the data"
   ]
  },
  {
   "cell_type": "code",
   "execution_count": 4,
   "metadata": {
    "collapsed": false
   },
   "outputs": [
    {
     "name": "stdout",
     "output_type": "stream",
     "text": [
      "Shape df_train : 114321, 490\n",
      "Shape df_test : 114393, 490\n"
     ]
    }
   ],
   "source": [
    "id_train = df_train['ID'].values\n",
    "id_test = df_test['ID'].values\n",
    "\n",
    "# drop v22 and v107\n",
    "df_train.drop(['ID', 'v22', 'v107'], 1, inplace=True)\n",
    "df_test.drop(['ID', 'v22', 'v107'], 1, inplace=True)\n",
    "\n",
    "# let's one-hot encode all the categorical values\n",
    "# we need to concat df_train and df_test because if one value doesn't appear in the other one, we going to have different columns\n",
    "df = pd.concat([df_train, df_test]).reset_index(drop=True)\n",
    "\n",
    "# to make this more simple, we impute all NaNs values with -1\n",
    "df.fillna(-1, inplace=True)\n",
    "\n",
    "# you need to save memory, let's go sparse !\n",
    "df = pd.get_dummies(df, sparse=True)\n",
    "\n",
    "df_train = df[df['target'] >= 0].copy()\n",
    "df_test = df[df['target'] == -1].copy()\n",
    "\n",
    "df_train.drop(['target'], 1, inplace=True)\n",
    "df_test.drop(['target'], 1, inplace=True)\n",
    "\n",
    "del df\n",
    "\n",
    "print('Shape df_train : {}, {}'.format(*df_train.shape))\n",
    "print('Shape df_test : {}, {}'.format(*df_test.shape))"
   ]
  },
  {
   "cell_type": "markdown",
   "metadata": {},
   "source": [
    "# Let's do some Machine Learning"
   ]
  },
  {
   "cell_type": "code",
   "execution_count": 5,
   "metadata": {
    "collapsed": true
   },
   "outputs": [],
   "source": [
    "def make_submit(name, id_test, preds, score, date, header='ID,PredictedProb'):\n",
    "    \"\"\"\n",
    "        Function to create sumbit file for Kaggle competition\n",
    "    \"\"\"\n",
    "    ID, TARGET = header.split(',')\n",
    "    df_submit = pd.DataFrame({ID: id_test, TARGET: preds})\n",
    "    file_name = \"./submit_{}_{}_{:.5f}.csv\".format(name, date, score)\n",
    "    df_submit.to_csv(file_name, index=False)"
   ]
  },
  {
   "cell_type": "code",
   "execution_count": 6,
   "metadata": {
    "collapsed": true
   },
   "outputs": [],
   "source": [
    "def scikit_train(algo_to_use, df_train, df_test, y_true, splits):\n",
    "    start_model = datetime.now()\n",
    "\n",
    "    scores_train = []\n",
    "    scores_cv = []\n",
    "\n",
    "    # stacking\n",
    "    y_full_train = np.zeros((df_train.shape[0], 1))\n",
    "    y_test_hat = np.zeros((df_test.shape[0], n_folds))\n",
    "\n",
    "    for fold, (train_index, cv_index) in enumerate(splits):\n",
    "\n",
    "        y_train, y_cv = y_true[train_index], y_true[cv_index]\n",
    "        X_train, X_cv = df_train.loc[train_index].values, df_train.loc[cv_index].values\n",
    "\n",
    "        X_test = df_test.values\n",
    "\n",
    "        start_training = datetime.now()\n",
    "        model = algo_to_use\n",
    "        model.fit(X_train, y_train)\n",
    "        end_training = datetime.now()\n",
    "\n",
    "        y_train_hat = model.predict_proba(X_train)[:,1]\n",
    "        y_cv_hat = model.predict_proba(X_cv)[:,1]\n",
    "        y_test_hat[:, fold] = model.predict_proba(X_test)[:,1]\n",
    "\n",
    "        # filling train stacking dataset\n",
    "        y_full_train[cv_index, :] = y_cv_hat.reshape(-1, 1)\n",
    "\n",
    "        scores_train.append(log_loss(y_train, y_train_hat))\n",
    "        scores_cv.append(log_loss(y_cv, y_cv_hat))\n",
    "\n",
    "        print_.score(fold, scores_train[fold], scores_cv[fold], start_training, end_training)\n",
    "    end_model = datetime.now()\n",
    "    print_.score('', np.mean(scores_train), np.mean(scores_cv), start_model, end_model)\n",
    "\n",
    "    name = model.__class__.__name__\n",
    "\n",
    "    # make submit\n",
    "    preds = y_test_hat.mean(axis=1)\n",
    "    score = np.mean(scores_cv)\n",
    "    date = datetime.now().strftime(\"%Y.%m.%d\")\n",
    "    make_submit(name, id_test, preds, score, date)\n",
    "    \n",
    "    return y_full_train, y_test_hat\n",
    "\n",
    "def xgboost_train(params, df_train, df_test, y_true, splits):\n",
    "    start_model = datetime.now()\n",
    "\n",
    "    scores_train = []\n",
    "    scores_cv = []\n",
    "\n",
    "    # stacking\n",
    "    y_full_train = np.zeros((df_train.shape[0], 1))\n",
    "    y_test_hat = np.zeros((df_test.shape[0], n_folds))\n",
    "\n",
    "    for fold, (train_index, cv_index) in enumerate(splits):\n",
    "\n",
    "        y_train, y_cv = y_true[train_index], y_true[cv_index]\n",
    "        X_train, X_cv = df_train.loc[train_index].values, df_train.loc[cv_index].values\n",
    "\n",
    "        X_test = df_test.values\n",
    "\n",
    "        dtrain = xgb.DMatrix(X_train, y_train, missing=-1)\n",
    "        dcv = xgb.DMatrix(X_cv, y_cv, missing=-1)\n",
    "        dtest = xgb.DMatrix(X_test, missing=-1)\n",
    "\n",
    "        start_training = datetime.now()\n",
    "\n",
    "        booster = {\n",
    "            'num_boost_round': 20000, \n",
    "            'early_stopping_rounds': 10,\n",
    "            'evals': [(dtrain, 'train'), (dcv, 'cv')],\n",
    "            'verbose_eval': None,\n",
    "        }\n",
    "\n",
    "        model = xgb.train(params, dtrain, **booster)\n",
    "\n",
    "        end_training = datetime.now()\n",
    "\n",
    "        y_train_hat = model.predict(dtrain, ntree_limit=model.best_ntree_limit)\n",
    "        y_cv_hat = model.predict(dcv, ntree_limit=model.best_ntree_limit)\n",
    "        y_test_hat[:, fold] = model.predict(dtest, ntree_limit=model.best_ntree_limit)\n",
    "\n",
    "        # filling train stacking dataset\n",
    "        y_full_train[cv_index, :] = y_cv_hat.reshape(-1, 1)\n",
    "\n",
    "        scores_train.append(log_loss(y_train, y_train_hat))\n",
    "        scores_cv.append(log_loss(y_cv, y_cv_hat))\n",
    "\n",
    "        print_.score(fold, scores_train[fold], scores_cv[fold], start_training, end_training)\n",
    "    end_model = datetime.now()\n",
    "    print_.score('', np.mean(scores_train), np.mean(scores_cv), start_model, end_model)\n",
    "\n",
    "    name = 'XGBoostClassifier'\n",
    "\n",
    "    # make submit\n",
    "    preds = y_test_hat.mean(axis=1)\n",
    "    score = np.mean(scores_cv)\n",
    "    date = datetime.now().strftime(\"%Y.%m.%d\")\n",
    "    make_submit(name, id_test, preds, score, date)\n",
    "    \n",
    "    return y_full_train, y_test_hat"
   ]
  },
  {
   "cell_type": "markdown",
   "metadata": {
    "collapsed": true
   },
   "source": [
    "### Make some splits for Cross-validation"
   ]
  },
  {
   "cell_type": "code",
   "execution_count": 7,
   "metadata": {
    "collapsed": false
   },
   "outputs": [],
   "source": [
    "n_folds = 3\n",
    "suffle = True\n",
    "seed = 314159\n",
    "\n",
    "skf = StratifiedKFold(n_splits=n_folds, shuffle=suffle, random_state=seed)\n",
    "splits = list(skf.split(df_train, y_true))"
   ]
  },
  {
   "cell_type": "markdown",
   "metadata": {},
   "source": [
    "### Train Level 1 Models and create Leval 2 dataset"
   ]
  },
  {
   "cell_type": "code",
   "execution_count": 9,
   "metadata": {
    "collapsed": false
   },
   "outputs": [
    {
     "name": "stdout",
     "output_type": "stream",
     "text": [
      "\n",
      "LogisticRegression\n",
      "-------------------------------------------------------------------------------------------\n",
      "|     FOLD     |    TRAIN     |      CV      |    START     |     END      |     DUR      |\n",
      "-------------------------------------------------------------------------------------------\n",
      "|      0       |   0.47884    |   0.48504    |   09:25:52   |   09:26:53   |   00:01:01   |\n",
      "|      1       |   0.47873    |   0.48510    |   09:26:58   |   09:28:13   |   00:01:14   |\n",
      "|      2       |   0.48035    |   0.48167    |   09:28:19   |   09:29:12   |   00:00:53   |\n",
      "-------------------------------------------------------------------------------------------\n",
      "|              |   0.47931    |   0.48394    |   09:25:48   |   09:29:12   |   00:03:24   |\n",
      "-------------------------------------------------------------------------------------------\n",
      "\n",
      "RandomForestClassifier\n",
      "-------------------------------------------------------------------------------------------\n",
      "|     FOLD     |    TRAIN     |      CV      |    START     |     END      |     DUR      |\n",
      "-------------------------------------------------------------------------------------------\n",
      "|      0       |   0.12889    |   0.47508    |   09:29:17   |   09:29:59   |   00:00:41   |\n",
      "|      1       |   0.12912    |   0.47385    |   09:30:11   |   09:30:53   |   00:00:41   |\n",
      "|      2       |   0.12924    |   0.47193    |   09:31:07   |   09:31:51   |   00:00:44   |\n",
      "-------------------------------------------------------------------------------------------\n",
      "|              |   0.12908    |   0.47362    |   09:29:13   |   09:32:01   |   00:02:47   |\n",
      "-------------------------------------------------------------------------------------------\n",
      "\n",
      "XGBoostClassifier\n",
      "-------------------------------------------------------------------------------------------\n",
      "|     FOLD     |    TRAIN     |      CV      |    START     |     END      |     DUR      |\n",
      "-------------------------------------------------------------------------------------------\n",
      "|      0       |   0.42274    |   0.46783    |   09:32:08   |   09:33:12   |   00:01:04   |\n",
      "|      1       |   0.41839    |   0.46813    |   09:33:20   |   09:34:33   |   00:01:13   |\n",
      "|      2       |   0.42873    |   0.46551    |   09:34:40   |   09:35:38   |   00:00:57   |\n",
      "-------------------------------------------------------------------------------------------\n",
      "|              |   0.42329    |   0.46716    |   09:32:01   |   09:35:38   |   00:03:37   |\n",
      "-------------------------------------------------------------------------------------------\n"
     ]
    }
   ],
   "source": [
    "df_train_L2 = pd.DataFrame()\n",
    "df_test_L2 = pd.DataFrame()\n",
    "\n",
    "#########################\n",
    "## Logistic Regression ##\n",
    "#########################\n",
    "print('\\nLogisticRegression')\n",
    "model = LogisticRegressionCustom(fit_intercept=True)\n",
    "y_full_train, y_test_hat = scikit_train(model, df_train, df_test, y_true, splits)\n",
    "\n",
    "# Fill L2 Dataset\n",
    "df_train_L2['LogisticRegression'] = y_full_train.flatten()\n",
    "df_test_L2['LogisticRegression'] = y_test_hat.mean(axis=1).flatten()\n",
    "\n",
    "\n",
    "###################\n",
    "## Random Forest ##\n",
    "###################\n",
    "print('\\nRandomForestClassifier')\n",
    "model = RandomForestClassifier(n_estimators=150, n_jobs=-1)\n",
    "y_full_train, y_test_hat = scikit_train(model, df_train, df_test, y_true, splits)\n",
    "\n",
    "# Fill L2 Dataset\n",
    "df_train_L2['RandomForestClassifier'] = y_full_train.flatten()\n",
    "df_test_L2['RandomForestClassifier'] = y_test_hat.mean(axis=1).flatten()\n",
    "\n",
    "\n",
    "#############\n",
    "## XGBoost ##\n",
    "#############\n",
    "print('\\nXGBoostClassifier')\n",
    "\n",
    "params = {\n",
    "    'booster': 'gbtree',\n",
    "    'objective': 'binary:logistic',\n",
    "    'eval_metric': 'logloss',\n",
    "    'eta': 0.1,\n",
    "    'subsample': 0.7,\n",
    "    'colsample_bytree': 0.5,\n",
    "    'silent': 1,\n",
    "}\n",
    "\n",
    "y_full_train, y_test_hat = xgboost_train(params, df_train, df_test, y_true, splits)\n",
    "\n",
    "# Fill L2 Dataset\n",
    "df_train_L2['XGBoostClassifier'] = y_full_train.flatten()\n",
    "df_test_L2['XGBoostClassifier'] = y_test_hat.mean(axis=1).flatten()"
   ]
  },
  {
   "cell_type": "markdown",
   "metadata": {},
   "source": [
    "### How the dataset from L1 models looks like"
   ]
  },
  {
   "cell_type": "code",
   "execution_count": 10,
   "metadata": {
    "collapsed": false
   },
   "outputs": [
    {
     "data": {
      "text/html": [
       "<div>\n",
       "<table border=\"1\" class=\"dataframe\">\n",
       "  <thead>\n",
       "    <tr style=\"text-align: right;\">\n",
       "      <th></th>\n",
       "      <th>LogisticRegression</th>\n",
       "      <th>RandomForestClassifier</th>\n",
       "      <th>XGBoostClassifier</th>\n",
       "    </tr>\n",
       "  </thead>\n",
       "  <tbody>\n",
       "    <tr>\n",
       "      <th>0</th>\n",
       "      <td>0.814681</td>\n",
       "      <td>0.760000</td>\n",
       "      <td>0.861056</td>\n",
       "    </tr>\n",
       "    <tr>\n",
       "      <th>1</th>\n",
       "      <td>0.692432</td>\n",
       "      <td>0.693333</td>\n",
       "      <td>0.664703</td>\n",
       "    </tr>\n",
       "    <tr>\n",
       "      <th>2</th>\n",
       "      <td>0.820489</td>\n",
       "      <td>0.740000</td>\n",
       "      <td>0.810790</td>\n",
       "    </tr>\n",
       "    <tr>\n",
       "      <th>3</th>\n",
       "      <td>0.936762</td>\n",
       "      <td>0.920000</td>\n",
       "      <td>0.957116</td>\n",
       "    </tr>\n",
       "    <tr>\n",
       "      <th>4</th>\n",
       "      <td>0.877795</td>\n",
       "      <td>0.966667</td>\n",
       "      <td>0.920223</td>\n",
       "    </tr>\n",
       "  </tbody>\n",
       "</table>\n",
       "</div>"
      ],
      "text/plain": [
       "   LogisticRegression  RandomForestClassifier  XGBoostClassifier\n",
       "0            0.814681                0.760000           0.861056\n",
       "1            0.692432                0.693333           0.664703\n",
       "2            0.820489                0.740000           0.810790\n",
       "3            0.936762                0.920000           0.957116\n",
       "4            0.877795                0.966667           0.920223"
      ]
     },
     "execution_count": 10,
     "metadata": {},
     "output_type": "execute_result"
    }
   ],
   "source": [
    "df_train_L2.head()"
   ]
  },
  {
   "cell_type": "code",
   "execution_count": 11,
   "metadata": {
    "collapsed": false
   },
   "outputs": [
    {
     "data": {
      "text/html": [
       "<div>\n",
       "<table border=\"1\" class=\"dataframe\">\n",
       "  <thead>\n",
       "    <tr style=\"text-align: right;\">\n",
       "      <th></th>\n",
       "      <th>LogisticRegression</th>\n",
       "      <th>RandomForestClassifier</th>\n",
       "      <th>XGBoostClassifier</th>\n",
       "    </tr>\n",
       "  </thead>\n",
       "  <tbody>\n",
       "    <tr>\n",
       "      <th>0</th>\n",
       "      <td>0.454072</td>\n",
       "      <td>0.451111</td>\n",
       "      <td>0.229568</td>\n",
       "    </tr>\n",
       "    <tr>\n",
       "      <th>1</th>\n",
       "      <td>0.907662</td>\n",
       "      <td>0.751111</td>\n",
       "      <td>0.882014</td>\n",
       "    </tr>\n",
       "    <tr>\n",
       "      <th>2</th>\n",
       "      <td>0.717293</td>\n",
       "      <td>0.733333</td>\n",
       "      <td>0.726329</td>\n",
       "    </tr>\n",
       "    <tr>\n",
       "      <th>3</th>\n",
       "      <td>0.579556</td>\n",
       "      <td>0.451111</td>\n",
       "      <td>0.597525</td>\n",
       "    </tr>\n",
       "    <tr>\n",
       "      <th>4</th>\n",
       "      <td>0.702669</td>\n",
       "      <td>0.742222</td>\n",
       "      <td>0.763547</td>\n",
       "    </tr>\n",
       "  </tbody>\n",
       "</table>\n",
       "</div>"
      ],
      "text/plain": [
       "   LogisticRegression  RandomForestClassifier  XGBoostClassifier\n",
       "0            0.454072                0.451111           0.229568\n",
       "1            0.907662                0.751111           0.882014\n",
       "2            0.717293                0.733333           0.726329\n",
       "3            0.579556                0.451111           0.597525\n",
       "4            0.702669                0.742222           0.763547"
      ]
     },
     "execution_count": 11,
     "metadata": {},
     "output_type": "execute_result"
    }
   ],
   "source": [
    "df_test_L2.head()"
   ]
  },
  {
   "cell_type": "code",
   "execution_count": 12,
   "metadata": {
    "collapsed": false
   },
   "outputs": [
    {
     "data": {
      "text/html": [
       "<div>\n",
       "<table border=\"1\" class=\"dataframe\">\n",
       "  <thead>\n",
       "    <tr style=\"text-align: right;\">\n",
       "      <th></th>\n",
       "      <th>LogisticRegression</th>\n",
       "      <th>RandomForestClassifier</th>\n",
       "      <th>XGBoostClassifier</th>\n",
       "    </tr>\n",
       "  </thead>\n",
       "  <tbody>\n",
       "    <tr>\n",
       "      <th>LogisticRegression</th>\n",
       "      <td>1.000000</td>\n",
       "      <td>0.785884</td>\n",
       "      <td>0.873725</td>\n",
       "    </tr>\n",
       "    <tr>\n",
       "      <th>RandomForestClassifier</th>\n",
       "      <td>0.785884</td>\n",
       "      <td>1.000000</td>\n",
       "      <td>0.845362</td>\n",
       "    </tr>\n",
       "    <tr>\n",
       "      <th>XGBoostClassifier</th>\n",
       "      <td>0.873725</td>\n",
       "      <td>0.845362</td>\n",
       "      <td>1.000000</td>\n",
       "    </tr>\n",
       "  </tbody>\n",
       "</table>\n",
       "</div>"
      ],
      "text/plain": [
       "                        LogisticRegression  RandomForestClassifier  \\\n",
       "LogisticRegression                1.000000                0.785884   \n",
       "RandomForestClassifier            0.785884                1.000000   \n",
       "XGBoostClassifier                 0.873725                0.845362   \n",
       "\n",
       "                        XGBoostClassifier  \n",
       "LogisticRegression               0.873725  \n",
       "RandomForestClassifier           0.845362  \n",
       "XGBoostClassifier                1.000000  "
      ]
     },
     "execution_count": 12,
     "metadata": {},
     "output_type": "execute_result"
    }
   ],
   "source": [
    "df_train_L2.corr()"
   ]
  },
  {
   "cell_type": "markdown",
   "metadata": {},
   "source": [
    "# Let's train model with L2 dataset"
   ]
  },
  {
   "cell_type": "code",
   "execution_count": 14,
   "metadata": {
    "collapsed": false,
    "scrolled": false
   },
   "outputs": [
    {
     "name": "stdout",
     "output_type": "stream",
     "text": [
      "-------------------------------------------------------------------------------------------\n",
      "|     FOLD     |    TRAIN     |      CV      |    START     |     END      |     DUR      |\n",
      "-------------------------------------------------------------------------------------------\n",
      "|      0       |   0.46472    |   0.46717    |   09:36:43   |   09:36:43   |   00:00:00   |\n",
      "|      1       |   0.46527    |   0.46605    |   09:36:43   |   09:36:43   |   00:00:00   |\n",
      "|      2       |   0.46655    |   0.46355    |   09:36:43   |   09:36:43   |   00:00:00   |\n",
      "-------------------------------------------------------------------------------------------\n",
      "|              |   0.46552    |   0.46559    |   09:36:43   |   09:36:43   |   00:00:00   |\n",
      "-------------------------------------------------------------------------------------------\n",
      "-------------------------------------------------------------------------------------------\n",
      "|     FOLD     |    TRAIN     |      CV      |    START     |     END      |     DUR      |\n",
      "-------------------------------------------------------------------------------------------\n",
      "|      0       |   0.45866    |   0.46275    |   09:36:44   |   09:36:56   |   00:00:11   |\n",
      "|      1       |   0.45918    |   0.46199    |   09:36:59   |   09:37:12   |   00:00:12   |\n",
      "|      2       |   0.45991    |   0.46058    |   09:37:16   |   09:37:28   |   00:00:11   |\n",
      "-------------------------------------------------------------------------------------------\n",
      "|              |   0.45925    |   0.46177    |   09:36:44   |   09:37:32   |   00:00:48   |\n",
      "-------------------------------------------------------------------------------------------\n",
      "-------------------------------------------------------------------------------------------\n",
      "|     FOLD     |    TRAIN     |      CV      |    START     |     END      |     DUR      |\n",
      "-------------------------------------------------------------------------------------------\n",
      "|      0       |   0.45066    |   0.46169    |   09:37:33   |   09:37:36   |   00:00:02   |\n",
      "|      1       |   0.45204    |   0.46128    |   09:37:36   |   09:37:38   |   00:00:01   |\n",
      "|      2       |   0.45135    |   0.46049    |   09:37:38   |   09:37:40   |   00:00:01   |\n",
      "-------------------------------------------------------------------------------------------\n",
      "|              |   0.45135    |   0.46115    |   09:37:33   |   09:37:40   |   00:00:07   |\n",
      "-------------------------------------------------------------------------------------------\n"
     ]
    }
   ],
   "source": [
    "df_train_L3 = pd.DataFrame()\n",
    "df_test_L3 = pd.DataFrame()\n",
    "\n",
    "# This dataset is prone to overfiting so we update parameters for XGBoost and RandomForest accordingly\n",
    "\n",
    "## Logistic Regression\n",
    "model = LogisticRegressionCustom(fit_intercept=True)\n",
    "y_full_train, y_test_hat = scikit_train(model, df_train_L2, df_test_L2, y_true, splits)\n",
    "\n",
    "# Fill L3 Dataset\n",
    "df_train_L3['LogisticRegression'] = y_full_train.flatten()\n",
    "df_test_L3['LogisticRegression'] = y_test_hat.mean(axis=1).flatten()\n",
    "\n",
    "## Random Forest\n",
    "model = RandomForestClassifier(n_estimators=500, n_jobs=-1, min_samples_split=40, min_samples_leaf=30, max_leaf_nodes=30)\n",
    "y_full_train, y_test_hat = scikit_train(model, df_train_L2, df_test_L2, y_true, splits)\n",
    "\n",
    "# Fill L3 Dataset\n",
    "df_train_L3['RandomForestClassifier'] = y_full_train.flatten()\n",
    "df_test_L3['RandomForestClassifier'] = y_test_hat.mean(axis=1).flatten()\n",
    "\n",
    "## XGBoost\n",
    "\n",
    "params = {\n",
    "    'booster': 'gbtree',\n",
    "    'objective': 'binary:logistic',\n",
    "    'eval_metric': 'logloss',\n",
    "    'eta': 0.1,\n",
    "    'subsample': 0.5,\n",
    "    'silent': 1,\n",
    "}\n",
    "\n",
    "y_full_train, y_test_hat = xgboost_train(params, df_train_L2, df_test_L2, y_true, splits)\n",
    "\n",
    "# Fill L3 Dataset\n",
    "df_train_L3['XGBoostClassifier'] = y_full_train.flatten()\n",
    "df_test_L3['XGBoostClassifier'] = y_test_hat.mean(axis=1).flatten()"
   ]
  },
  {
   "cell_type": "code",
   "execution_count": 15,
   "metadata": {
    "collapsed": false
   },
   "outputs": [
    {
     "data": {
      "text/html": [
       "<div>\n",
       "<table border=\"1\" class=\"dataframe\">\n",
       "  <thead>\n",
       "    <tr style=\"text-align: right;\">\n",
       "      <th></th>\n",
       "      <th>LogisticRegression</th>\n",
       "      <th>RandomForestClassifier</th>\n",
       "      <th>XGBoostClassifier</th>\n",
       "    </tr>\n",
       "  </thead>\n",
       "  <tbody>\n",
       "    <tr>\n",
       "      <th>0</th>\n",
       "      <td>0.847433</td>\n",
       "      <td>0.829492</td>\n",
       "      <td>0.811947</td>\n",
       "    </tr>\n",
       "    <tr>\n",
       "      <th>1</th>\n",
       "      <td>0.699621</td>\n",
       "      <td>0.685966</td>\n",
       "      <td>0.688679</td>\n",
       "    </tr>\n",
       "    <tr>\n",
       "      <th>2</th>\n",
       "      <td>0.815262</td>\n",
       "      <td>0.796500</td>\n",
       "      <td>0.753188</td>\n",
       "    </tr>\n",
       "    <tr>\n",
       "      <th>3</th>\n",
       "      <td>0.929139</td>\n",
       "      <td>0.955298</td>\n",
       "      <td>0.971455</td>\n",
       "    </tr>\n",
       "    <tr>\n",
       "      <th>4</th>\n",
       "      <td>0.928763</td>\n",
       "      <td>0.935657</td>\n",
       "      <td>0.961307</td>\n",
       "    </tr>\n",
       "  </tbody>\n",
       "</table>\n",
       "</div>"
      ],
      "text/plain": [
       "   LogisticRegression  RandomForestClassifier  XGBoostClassifier\n",
       "0            0.847433                0.829492           0.811947\n",
       "1            0.699621                0.685966           0.688679\n",
       "2            0.815262                0.796500           0.753188\n",
       "3            0.929139                0.955298           0.971455\n",
       "4            0.928763                0.935657           0.961307"
      ]
     },
     "execution_count": 15,
     "metadata": {},
     "output_type": "execute_result"
    }
   ],
   "source": [
    "df_train_L3.head()"
   ]
  },
  {
   "cell_type": "code",
   "execution_count": 16,
   "metadata": {
    "collapsed": false
   },
   "outputs": [
    {
     "data": {
      "text/html": [
       "<div>\n",
       "<table border=\"1\" class=\"dataframe\">\n",
       "  <thead>\n",
       "    <tr style=\"text-align: right;\">\n",
       "      <th></th>\n",
       "      <th>LogisticRegression</th>\n",
       "      <th>RandomForestClassifier</th>\n",
       "      <th>XGBoostClassifier</th>\n",
       "    </tr>\n",
       "  </thead>\n",
       "  <tbody>\n",
       "    <tr>\n",
       "      <th>LogisticRegression</th>\n",
       "      <td>1.000000</td>\n",
       "      <td>0.981501</td>\n",
       "      <td>0.97039</td>\n",
       "    </tr>\n",
       "    <tr>\n",
       "      <th>RandomForestClassifier</th>\n",
       "      <td>0.981501</td>\n",
       "      <td>1.000000</td>\n",
       "      <td>0.99033</td>\n",
       "    </tr>\n",
       "    <tr>\n",
       "      <th>XGBoostClassifier</th>\n",
       "      <td>0.970390</td>\n",
       "      <td>0.990330</td>\n",
       "      <td>1.00000</td>\n",
       "    </tr>\n",
       "  </tbody>\n",
       "</table>\n",
       "</div>"
      ],
      "text/plain": [
       "                        LogisticRegression  RandomForestClassifier  \\\n",
       "LogisticRegression                1.000000                0.981501   \n",
       "RandomForestClassifier            0.981501                1.000000   \n",
       "XGBoostClassifier                 0.970390                0.990330   \n",
       "\n",
       "                        XGBoostClassifier  \n",
       "LogisticRegression                0.97039  \n",
       "RandomForestClassifier            0.99033  \n",
       "XGBoostClassifier                 1.00000  "
      ]
     },
     "execution_count": 16,
     "metadata": {},
     "output_type": "execute_result"
    }
   ],
   "source": [
    "df_train_L3.corr()"
   ]
  },
  {
   "cell_type": "markdown",
   "metadata": {},
   "source": [
    "### Make an average of all the predictions"
   ]
  },
  {
   "cell_type": "markdown",
   "metadata": {},
   "source": [
    "We are going to use Nelder-Mead optimization algorithm to find the best weights for : $w_1X_1^{w_2} + w_3X_2^{w_4} + w_4X_3^{w_5} + w_6$\n",
    "avec :\n",
    "\n",
    "$X_1$ : probabilities for RegLog\n",
    "\n",
    "$X_2$ : probabilities for RandfomForest\n",
    "\n",
    "$X_3$ : probabilities for Xgboost"
   ]
  },
  {
   "cell_type": "code",
   "execution_count": 19,
   "metadata": {
    "collapsed": false
   },
   "outputs": [
    {
     "name": "stdout",
     "output_type": "stream",
     "text": [
      "weights : 1.38*RegLog^0.05 + 0.25*RF^1.95 + 0.60*XGB^0.88 + -1.23\n",
      "Stack RegLog RF XGB logloss score final score  : 0.46072\n"
     ]
    }
   ],
   "source": [
    "## The score should be around 0.460 if it is note the case, re-initialize the weights and re-run the minimization\n",
    "\n",
    "from scipy.optimize import minimize\n",
    "\n",
    "def f(weights):\n",
    "    y_hat = df_train_L3.pow(weights[0:3]).dot(weights[3:6]) + weights[6]\n",
    "    return log_loss(y_true, y_hat)\n",
    "\n",
    "weights = np.random.uniform(0, 1, 7)\n",
    "best_weights = minimize(f, weights, method='Nelder-Mead')\n",
    "\n",
    "print('weights : {3:.2f}*RegLog^{0:.2f} + {4:.2f}*RF^{1:.2f} + {5:.2f}*XGB^{2:.2f} + {6:.2f}'.format(*best_weights['x']))\n",
    "\n",
    "w = best_weights['x']\n",
    "\n",
    "y_train_hat = (df_train_L3.pow(w[0:3]).dot(w[3:6]) + w[6]).values\n",
    "stack_score = log_loss(y_true, y_train_hat)\n",
    "print('Stack RegLog RF XGB logloss score final score  : {:.5f}'.format(stack_score))\n",
    "\n",
    "# make submit\n",
    "name = \"Stack_RegLog_RF_XGB\"\n",
    "preds = df_test_L3.pow(w[0:3]).dot(w[3:6]) + w[6]\n",
    "date = datetime.now().strftime(\"%Y.%m.%d\")\n",
    "make_submit(name, id_test, preds, stack_score, date)"
   ]
  },
  {
   "cell_type": "markdown",
   "metadata": {},
   "source": [
    "# Let's go beyond probabilities"
   ]
  },
  {
   "cell_type": "code",
   "execution_count": 20,
   "metadata": {
    "collapsed": false
   },
   "outputs": [
    {
     "data": {
      "image/png": "[encoded data removed]",
      "text/plain": [
       "<matplotlib.figure.Figure at 0x5c6dddccf8>"
      ]
     },
     "metadata": {},
     "output_type": "display_data"
    }
   ],
   "source": [
    "y_alea = np.ones(len(y_true))\n",
    "y_alea[:] = np.random.uniform(0, 1, len(y_true))\n",
    "\n",
    "alea_fpr, alea_tpr, threshold = roc_curve(y_true, y_alea)\n",
    "alea_roc_auc = auc(alea_fpr, alea_tpr)\n",
    "\n",
    "fpr, tpr, threshold = roc_curve(y_true, y_train_hat)\n",
    "roc_auc = auc(fpr, tpr)\n",
    "\n",
    "plt.title('Receiver Operating Characteristic')\n",
    "plt.plot(fpr, tpr, 'b', label = 'y_cv_hat AUC = %0.2f' % roc_auc)\n",
    "plt.plot(alea_fpr, alea_tpr, 'r--', label = 'Random predictions AUC = %0.2f' % alea_roc_auc)\n",
    "plt.legend(loc = 'lower right')\n",
    "plt.xlim([0, 1])\n",
    "plt.ylim([0, 1])\n",
    "plt.ylabel('True Positive Rate')\n",
    "plt.xlabel('False Positive Rate')\n",
    "plt.show()"
   ]
  },
  {
   "cell_type": "markdown",
   "metadata": {},
   "source": [
    "#### Let's opitmize the recall and the precision ( /!\\ precision is not the accuracy )"
   ]
  },
  {
   "cell_type": "code",
   "execution_count": 21,
   "metadata": {
    "collapsed": false
   },
   "outputs": [
    {
     "name": "stderr",
     "output_type": "stream",
     "text": [
      "C:\\ProgramData\\Anaconda3\\lib\\site-packages\\ipykernel\\__main__.py:4: RuntimeWarning: invalid value encountered in long_scalars\n"
     ]
    },
    {
     "data": {
      "image/png": "[encoded data removed]",
      "text/plain": [
       "<matplotlib.figure.Figure at 0x5c6df7a630>"
      ]
     },
     "metadata": {},
     "output_type": "display_data"
    }
   ],
   "source": [
    "def precision(y_true, y_hat):\n",
    "    tp = ((y_true == 1) & (y_hat == 1)).sum()\n",
    "    fp = ((y_true == 0) & (y_hat == 1)).sum()\n",
    "    return tp / (tp + fp)\n",
    "\n",
    "def recall(y_true, y_hat):\n",
    "    tp = ((y_true == 1) & (y_hat == 1)).sum()\n",
    "    fn = ((y_true == 1) & (y_hat == 0)).sum()\n",
    "    return tp / (tp + fn)\n",
    "\n",
    "thresholds = np.arange(0, 1, 0.01)\n",
    "\n",
    "best_precision = dict()\n",
    "for th in thresholds:\n",
    "    best_precision[th] = precision(y_true, y_train_hat > th)\n",
    "    \n",
    "best_recall = dict()\n",
    "for th in thresholds:\n",
    "    best_recall[th] = recall(y_true, y_train_hat > th)\n",
    "\n",
    "plt.plot(thresholds, list(best_precision.values()), label='precision')\n",
    "plt.plot(thresholds, list(best_recall.values()), label='recall')\n",
    "plt.legend(loc = 'lower left')\n",
    "plt.xlim([0, 1])\n",
    "plt.ylim([0, 1.1])\n",
    "plt.ylabel('Thresholds')\n",
    "plt.xlabel('Scores')\n",
    "plt.show()"
   ]
  },
  {
   "cell_type": "code",
   "execution_count": 30,
   "metadata": {
    "collapsed": false,
    "scrolled": true
   },
   "outputs": [
    {
     "name": "stdout",
     "output_type": "stream",
     "text": [
      "The threshold who gives the best recal and precision is : 0.66\n"
     ]
    }
   ],
   "source": [
    "intersection = []\n",
    "for x, y in list(zip(best_precision.values(), best_recall.values())):\n",
    "    if not np.isnan(x) and not np.isnan(y):\n",
    "        intersection.append(abs(x-y))\n",
    "best_threshold = thresholds[np.argmin(intersection)]\n",
    "print('The threshold who gives the best recal and precision is : {}'.format(best_threshold))"
   ]
  },
  {
   "cell_type": "markdown",
   "metadata": {},
   "source": [
    "#### Confusion matrix with best_threshold "
   ]
  },
  {
   "cell_type": "code",
   "execution_count": 31,
   "metadata": {
    "collapsed": false
   },
   "outputs": [
    {
     "name": "stdout",
     "output_type": "stream",
     "text": [
      "                               Predicted condition\n",
      "                       ----------------------------------\n",
      "                       |    Positive    |    Negative   |\n",
      "          -----------------------------------------------\n",
      "   True   |  Positive  |         73041  |        13980  |\n",
      "Condition |  Negative  |         13915  |        13385  |\n",
      "          -----------------------------------------------\n"
     ]
    }
   ],
   "source": [
    "TP = ((y_true == 1) & ((y_train_hat > best_threshold) == 1)).sum()\n",
    "TN = ((y_true == 0) & ((y_train_hat > best_threshold) == 0)).sum()\n",
    "FP = ((y_true == 0) & ((y_train_hat > best_threshold) == 1)).sum()\n",
    "FN = ((y_true == 1) & ((y_train_hat > best_threshold) == 0)).sum()\n",
    "\n",
    "print('                               Predicted condition')\n",
    "print('                       ----------------------------------')\n",
    "print('                       |    Positive    |    Negative   |')\n",
    "print('          -----------------------------------------------')\n",
    "print('   True   |  Positive  |    {: 10d}  |   {: 10d}  |'.format(TP, FN))\n",
    "print('Condition |  Negative  |    {: 10d}  |   {: 10d}  |'.format(FP, TN))\n",
    "print('          -----------------------------------------------')"
   ]
  },
  {
   "cell_type": "code",
   "execution_count": null,
   "metadata": {
    "collapsed": true
   },
   "outputs": [],
   "source": []
  }
 ],
 "metadata": {
  "kernelspec": {
   "display_name": "Python 3",
   "language": "python",
   "name": "python3"
  },
  "language_info": {
   "codemirror_mode": {
    "name": "ipython",
    "version": 3
   },
   "file_extension": ".py",
   "mimetype": "text/x-python",
   "name": "python",
   "nbconvert_exporter": "python",
   "pygments_lexer": "ipython3",
   "version": "3.6.0"
  }
 },
 "nbformat": 4,
 "nbformat_minor": 1
}
