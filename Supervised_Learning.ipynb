{
 "cells": [
  {
   "cell_type": "code",
   "execution_count": 1,
   "metadata": {
    "collapsed": false
   },
   "outputs": [],
   "source": [
    "import sys\n",
    "from datetime import datetime\n",
    "sys.path.append('../')\n",
    "\n",
    "# Custom print class\n",
    "from CustomPrint import CustomPrint\n",
    "print_ = CustomPrint()\n",
    "\n",
    "import numpy as np\n",
    "import pandas as pd\n",
    "\n",
    "%matplotlib inline\n",
    "import matplotlib.pyplot as plt\n",
    "\n",
    "# ML algo\n",
    "from RegressionLogistic import LogisticRegressionCustom # I use my implementation ;)\n",
    "from sklearn.ensemble import RandomForestClassifier\n",
    "import xgboost as xgb\n",
    "\n",
    "# CV split\n",
    "from sklearn.model_selection import StratifiedKFold\n",
    "\n",
    "from sklearn.metrics import log_loss, roc_curve, auc\n",
    "from scipy import stats"
   ]
  },
  {
   "cell_type": "markdown",
   "metadata": {},
   "source": [
    "### Load dataset"
   ]
  },
  {
   "cell_type": "code",
   "execution_count": 2,
   "metadata": {
    "collapsed": true
   },
   "outputs": [],
   "source": [
    "df_train = pd.read_csv('./train.csv')\n",
    "df_test = pd.read_csv('./test.csv')"
   ]
  },
  {
   "cell_type": "markdown",
   "metadata": {},
   "source": [
    "### Let's check memory usage"
   ]
  },
  {
   "cell_type": "code",
   "execution_count": 3,
   "metadata": {
    "collapsed": false
   },
   "outputs": [
    {
     "name": "stdout",
     "output_type": "stream",
     "text": [
      "Total memory used : 242.44 MB\n"
     ]
    }
   ],
   "source": [
    "mem_train = df_train.memory_usage().sum() / 1e6\n",
    "mem_test = df_test.memory_usage().sum() / 1e6\n",
    "print('Total memory used : {:.2f} MB'.format(mem_train+mem_test))"
   ]
  },
  {
   "cell_type": "markdown",
   "metadata": {},
   "source": [
    "### Let's check some baseline scores"
   ]
  },
  {
   "cell_type": "code",
   "execution_count": 4,
   "metadata": {
    "collapsed": false
   },
   "outputs": [
    {
     "name": "stdout",
     "output_type": "stream",
     "text": [
      "logloss with y_true and random predictions\t\t0.997\n",
      "logloss with y_true and 0.5 predictions\t\t\t0.693\n",
      "logloss with y_true and target mean predictions\t\t0.550\n"
     ]
    }
   ],
   "source": [
    "y_true = df_train['target'].values\n",
    "\n",
    "y_hat = np.random.uniform(0, 1, len(y_true))\n",
    "print('logloss with y_true and random predictions\\t\\t{:.3f}'.format(log_loss(y_true, y_hat)))\n",
    "\n",
    "y_hat[:] = 0.5\n",
    "print('logloss with y_true and 0.5 predictions\\t\\t\\t{:.3f}'.format(log_loss(y_true, y_hat)))\n",
    "\n",
    "y_hat[:] = y_true.mean()\n",
    "print('logloss with y_true and target mean predictions\\t\\t{:.3f}'.format(log_loss(y_true, y_hat)))"
   ]
  },
  {
   "cell_type": "markdown",
   "metadata": {},
   "source": [
    "*** We manage to get 0.55 logloss without any machine learning ***<br />\n",
    "*** Can we do better ? ***"
   ]
  },
  {
   "cell_type": "markdown",
   "metadata": {},
   "source": [
    "###  Very simple processing of the data"
   ]
  },
  {
   "cell_type": "code",
   "execution_count": 5,
   "metadata": {
    "collapsed": false
   },
   "outputs": [
    {
     "name": "stdout",
     "output_type": "stream",
     "text": [
      "Shape df_train : 114321, 490\n",
      "Shape df_test : 114393, 490\n"
     ]
    }
   ],
   "source": [
    "id_train = df_train['ID'].values\n",
    "id_test = df_test['ID'].values\n",
    "\n",
    "# drop v22 and v107\n",
    "df_train.drop(['ID', 'v22', 'v107'], 1, inplace=True)\n",
    "df_test.drop(['ID', 'v22', 'v107'], 1, inplace=True)\n",
    "\n",
    "# let's one-hot encode all the categorical values\n",
    "# we need to concat df_train and df_test because if one value doesn't appear in the other one, we going to have different columns\n",
    "df = pd.concat([df_train, df_test]).reset_index(drop=True)\n",
    "\n",
    "# to make this more simple, we impute all NaNs values with -1\n",
    "df.fillna(-1, inplace=True)\n",
    "\n",
    "# you need to save memory, let's go sparse !\n",
    "df = pd.get_dummies(df, sparse=True)\n",
    "\n",
    "df_train = df[df['target'] >= 0].copy()\n",
    "df_test = df[df['target'] == -1].copy()\n",
    "\n",
    "df_train.drop(['target'], 1, inplace=True)\n",
    "df_test.drop(['target'], 1, inplace=True)\n",
    "\n",
    "del df\n",
    "\n",
    "print('Shape df_train : {}, {}'.format(*df_train.shape))\n",
    "print('Shape df_test : {}, {}'.format(*df_test.shape))"
   ]
  },
  {
   "cell_type": "markdown",
   "metadata": {},
   "source": [
    "### Let's check memory usage (again)"
   ]
  },
  {
   "cell_type": "code",
   "execution_count": 6,
   "metadata": {
    "collapsed": false
   },
   "outputs": [
    {
     "name": "stdout",
     "output_type": "stream",
     "text": [
      "Total memory used : 210.65 MB\n"
     ]
    }
   ],
   "source": [
    "mem_train = df_train.memory_usage().sum() / 1e6\n",
    "mem_test = df_test.memory_usage().sum() / 1e6\n",
    "print('Total memory used : {:.2f} MB'.format(mem_train+mem_test))"
   ]
  },
  {
   "cell_type": "markdown",
   "metadata": {},
   "source": [
    "# Let's do some Machine Learning"
   ]
  },
  {
   "cell_type": "markdown",
   "metadata": {
    "collapsed": true
   },
   "source": [
    "First, let's install XGBoost on Windows !\n",
    "This site is quite helpful : https://goo.gl/bHE3nA\n",
    "##### Steps :\n",
    "    - install Git for Windows : https://git-for-windows.github.io/\n",
    "    - open Git BASH and run those commands :\n",
    "        git clone --recursive https://github.com/dmlc/xgboost\n",
    "        cd xgboost\n",
    "        git submodule init\n",
    "        git submodule update\n",
    "    - install MINGW in Program Files: http://iweb.dl.sourceforge.net/project/mingw-w64/\n",
    "    - add C:\\Program Files\\mingw-w64\\x86_64-5.3.0-posix-seh-rt_v4-rev0\\mingw64\\bin to your PATH\n",
    "    - close Git BASH, reopen it and run thoses command : \n",
    "        touch ~/.bashrc\n",
    "        echo \"alias make='mingw32-make'\" > ~/.bashrc\n",
    "        source ~/.bashrc\n",
    "        cd xgoost\n",
    "        make -j4\n",
    "    - open CMD\n",
    "        cd xgboost/python-package/\n",
    "        python setup.py install\n",
    "DONE !"
   ]
  },
  {
   "cell_type": "code",
   "execution_count": 7,
   "metadata": {
    "collapsed": true
   },
   "outputs": [],
   "source": [
    "def make_submit(name, id_test, preds, score, date, header='ID,PredictedProb'):\n",
    "    \"\"\"\n",
    "        Function to create sumbit file for Kaggle competition\n",
    "    \"\"\"\n",
    "    ID, TARGET = header.split(',')\n",
    "    df_submit = pd.DataFrame({ID: id_test, TARGET: preds})\n",
    "    file_name = \"./submit_{}_{}_{:.5f}.csv\".format(name, date, score)\n",
    "    df_submit.to_csv(file_name, index=False)"
   ]
  },
  {
   "cell_type": "markdown",
   "metadata": {
    "collapsed": true
   },
   "source": [
    "### Make some splits for Cross-validation"
   ]
  },
  {
   "cell_type": "code",
   "execution_count": 8,
   "metadata": {
    "collapsed": false
   },
   "outputs": [],
   "source": [
    "n_folds = 3\n",
    "suffle = True\n",
    "seed = 314159\n",
    "\n",
    "skf = StratifiedKFold(n_splits=n_folds, shuffle=suffle, random_state=seed)\n",
    "splits = list(skf.split(df_train, y_true))"
   ]
  },
  {
   "cell_type": "markdown",
   "metadata": {},
   "source": [
    "### Logistic Regression"
   ]
  },
  {
   "cell_type": "code",
   "execution_count": 39,
   "metadata": {
    "collapsed": false
   },
   "outputs": [
    {
     "name": "stdout",
     "output_type": "stream",
     "text": [
      "-------------------------------------------------------------------------------------------\n",
      "|     FOLD     |    TRAIN     |      CV      |    START     |     END      |     DUR      |\n",
      "-------------------------------------------------------------------------------------------\n",
      "|      0       |   0.47884    |   0.48504    |   16:12:55   |   16:14:06   |   00:01:11   |\n",
      "|      1       |   0.47873    |   0.48510    |   16:14:13   |   16:15:18   |   00:01:05   |\n",
      "|      2       |   0.48035    |   0.48167    |   16:15:23   |   16:16:18   |   00:00:54   |\n",
      "-------------------------------------------------------------------------------------------\n",
      "|              |   0.47931    |   0.48394    |   16:12:47   |   16:16:18   |   00:03:31   |\n",
      "-------------------------------------------------------------------------------------------\n"
     ]
    }
   ],
   "source": [
    "start_model = datetime.now()\n",
    "\n",
    "scores_train = []\n",
    "scores_cv = []\n",
    "\n",
    "y_test_hat = np.zeros((df_test.shape[0], n_folds))\n",
    "\n",
    "for fold, (train_index, cv_index) in enumerate(splits):\n",
    "    \n",
    "    y_train, y_cv = y_true[train_index], y_true[cv_index]\n",
    "    X_train, X_cv = df_train.loc[train_index].values, df_train.loc[cv_index].values\n",
    "    \n",
    "    X_test = df_test.values\n",
    "    \n",
    "    start_training = datetime.now()\n",
    "    \n",
    "    model = LogisticRegressionCustom(fit_intercept=True)\n",
    "    model.fit(X_train, y_train)\n",
    "    \n",
    "    end_training = datetime.now()\n",
    "    \n",
    "    y_train_hat = model.predict_proba(X_train)[:,1]\n",
    "    y_cv_hat = model.predict_proba(X_cv)[:,1]\n",
    "    y_test_hat[:, fold] = model.predict_proba(X_test)[:,1]\n",
    "    \n",
    "    scores_train.append(log_loss(y_train, y_train_hat))\n",
    "    scores_cv.append(log_loss(y_cv, y_cv_hat))\n",
    "    \n",
    "    print_.score(fold, scores_train[fold], scores_cv[fold], start_training, end_training)\n",
    "end_model = datetime.now()\n",
    "print_.score('', np.mean(scores_train), np.mean(scores_cv), start_model, end_model)\n",
    "\n",
    "# make submit\n",
    "name = 'LogisticRegression'\n",
    "preds = y_test_hat.mean(axis=1)\n",
    "score = np.mean(scores_cv)\n",
    "date = datetime.now().strftime(\"%Y.%m.%d\")\n",
    "make_submit(name, id_test, preds, score, date)"
   ]
  },
  {
   "cell_type": "markdown",
   "metadata": {
    "collapsed": true
   },
   "source": [
    "### Random Forest"
   ]
  },
  {
   "cell_type": "code",
   "execution_count": 40,
   "metadata": {
    "collapsed": false
   },
   "outputs": [
    {
     "name": "stdout",
     "output_type": "stream",
     "text": [
      "-------------------------------------------------------------------------------------------\n",
      "|     FOLD     |    TRAIN     |      CV      |    START     |     END      |     DUR      |\n",
      "-------------------------------------------------------------------------------------------\n",
      "|      0       |   0.12898    |   0.47447    |   16:16:30   |   16:17:11   |   00:00:40   |\n",
      "|      1       |   0.12901    |   0.47463    |   16:17:24   |   16:18:12   |   00:00:47   |\n",
      "|      2       |   0.12937    |   0.47248    |   16:18:27   |   16:19:08   |   00:00:41   |\n",
      "-------------------------------------------------------------------------------------------\n",
      "|              |   0.12912    |   0.47386    |   16:16:26   |   16:19:17   |   00:02:51   |\n",
      "-------------------------------------------------------------------------------------------\n"
     ]
    }
   ],
   "source": [
    "start_model = datetime.now()\n",
    "\n",
    "scores_train = []\n",
    "scores_cv = []\n",
    "\n",
    "y_test_hat = np.zeros((df_test.shape[0], n_folds))\n",
    "\n",
    "for fold, (train_index, cv_index) in enumerate(splits):\n",
    "    \n",
    "    y_train, y_cv = y_true[train_index], y_true[cv_index]\n",
    "    X_train, X_cv = df_train.loc[train_index].values, df_train.loc[cv_index].values\n",
    "    \n",
    "    X_test = df_test.values\n",
    "    \n",
    "    start_training = datetime.now()\n",
    "    \n",
    "    model = RandomForestClassifier(n_estimators=150, n_jobs=-1)\n",
    "    model.fit(X_train, y_train)\n",
    "    \n",
    "    end_training = datetime.now()\n",
    "    \n",
    "    y_train_hat = model.predict_proba(X_train)[:,1]\n",
    "    y_cv_hat = model.predict_proba(X_cv)[:,1]\n",
    "    y_test_hat[:, fold] = model.predict_proba(X_test)[:,1]\n",
    "    \n",
    "    scores_train.append(log_loss(y_train, y_train_hat))\n",
    "    scores_cv.append(log_loss(y_cv, y_cv_hat))\n",
    "    \n",
    "    print_.score(fold, scores_train[fold], scores_cv[fold], start_training, end_training)\n",
    "end_model = datetime.now()\n",
    "print_.score('', np.mean(scores_train), np.mean(scores_cv), start_model, end_model)\n",
    "\n",
    "# make submit\n",
    "name = 'RandomForestClassifier'\n",
    "preds = y_test_hat.mean(axis=1)\n",
    "score = np.mean(scores_cv)\n",
    "date = datetime.now().strftime(\"%Y.%m.%d\")\n",
    "make_submit(name, id_test, preds, score, date)"
   ]
  },
  {
   "cell_type": "markdown",
   "metadata": {},
   "source": [
    "### XGBoost"
   ]
  },
  {
   "cell_type": "code",
   "execution_count": 41,
   "metadata": {
    "collapsed": false
   },
   "outputs": [
    {
     "name": "stdout",
     "output_type": "stream",
     "text": [
      "-------------------------------------------------------------------------------------------\n",
      "|     FOLD     |    TRAIN     |      CV      |    START     |     END      |     DUR      |\n",
      "-------------------------------------------------------------------------------------------\n",
      "|      0       |   0.42274    |   0.46783    |   16:19:27   |   16:20:26   |   00:00:58   |\n",
      "|      1       |   0.41839    |   0.46813    |   16:20:33   |   16:21:39   |   00:01:05   |\n",
      "|      2       |   0.42873    |   0.46551    |   16:21:46   |   16:22:41   |   00:00:55   |\n",
      "-------------------------------------------------------------------------------------------\n",
      "|              |   0.42329    |   0.46716    |   16:19:21   |   16:22:42   |   00:03:21   |\n",
      "-------------------------------------------------------------------------------------------\n"
     ]
    }
   ],
   "source": [
    "start_model = datetime.now()\n",
    "\n",
    "scores_train = []\n",
    "scores_cv = []\n",
    "\n",
    "y_test_hat = np.zeros((df_test.shape[0], n_folds))\n",
    "\n",
    "for fold, (train_index, cv_index) in enumerate(splits):\n",
    "    \n",
    "    y_train, y_cv = y_true[train_index], y_true[cv_index]\n",
    "    X_train, X_cv = df_train.loc[train_index].values, df_train.loc[cv_index].values\n",
    "    \n",
    "    X_test = df_test.values\n",
    "    \n",
    "    dtrain = xgb.DMatrix(X_train, y_train, missing=-1)\n",
    "    dcv = xgb.DMatrix(X_cv, y_cv, missing=-1)\n",
    "    dtest = xgb.DMatrix(X_test, missing=-1)\n",
    "    \n",
    "    start_training = datetime.now()\n",
    "    \n",
    "    booster = {\n",
    "        'num_boost_round': 20000, \n",
    "        'early_stopping_rounds': 10,\n",
    "        'evals': [(dtrain, 'train'), (dcv, 'cv')],\n",
    "        'verbose_eval': None,\n",
    "    }\n",
    "    params = {\n",
    "        'booster': 'gbtree',\n",
    "        'objective': 'binary:logistic',\n",
    "        'eval_metric': 'logloss',\n",
    "        'eta': 0.1,\n",
    "        'subsample': 0.7,\n",
    "        'colsample_bytree': 0.5,\n",
    "        'silent': 1,\n",
    "    }\n",
    "    \n",
    "    model = xgb.train(params, dtrain, **booster)\n",
    "    \n",
    "    end_training = datetime.now()\n",
    "    \n",
    "    y_train_hat = model.predict(dtrain, ntree_limit=model.best_ntree_limit)\n",
    "    y_cv_hat = model.predict(dcv, ntree_limit=model.best_ntree_limit)\n",
    "    y_test_hat[:, fold] = model.predict(dtest, ntree_limit=model.best_ntree_limit)\n",
    "    \n",
    "    scores_train.append(log_loss(y_train, y_train_hat))\n",
    "    scores_cv.append(log_loss(y_cv, y_cv_hat))\n",
    "    \n",
    "    print_.score(fold, scores_train[fold], scores_cv[fold], start_training, end_training)\n",
    "end_model = datetime.now()\n",
    "print_.score('', np.mean(scores_train), np.mean(scores_cv), start_model, end_model)\n",
    "\n",
    "# make submit\n",
    "name = 'XGBoost'\n",
    "preds = y_test_hat.mean(axis=1)\n",
    "score = np.mean(scores_cv)\n",
    "date = datetime.now().strftime(\"%Y.%m.%d\")\n",
    "make_submit(name, id_test, preds, score, date)"
   ]
  },
  {
   "cell_type": "markdown",
   "metadata": {},
   "source": [
    "# Let's do some feature selection with Logistic Regression"
   ]
  },
  {
   "cell_type": "code",
   "execution_count": 12,
   "metadata": {
    "collapsed": true
   },
   "outputs": [],
   "source": [
    "def mixed_feature_selection(X_train, y_train, X_cv, y_cv, verbose=False):\n",
    "\n",
    "    m, n = X_train.shape\n",
    "\n",
    "    # evaluation of each feature\n",
    "    scores = []\n",
    "    for i in range(n):\n",
    "\n",
    "        model = LogisticRegressionCustom(fit_intercept=False)\n",
    "        model.fit(X_train[:,i].reshape(-1, 1), y_train)\n",
    "\n",
    "        ll = log_loss(y_train, model.predict_proba(X_train[:,i].reshape(-1, 1)))\n",
    "        scores.append(ll)\n",
    "\n",
    "    feature_order = list(np.argsort(scores)[::-1])\n",
    "\n",
    "    X_train_select = np.ones((len(X_train), 1))\n",
    "    X_cv_select = np.ones((len(X_cv), 1))\n",
    "\n",
    "    greedy_subset = []\n",
    "    best_logloss = np.finfo(np.float32).max\n",
    "\n",
    "    while len(feature_order):\n",
    "\n",
    "        keep = False\n",
    "\n",
    "        index_feat = feature_order.pop()\n",
    "        greedy_subset.append(index_feat)\n",
    "\n",
    "        X_train_select = np.column_stack((X_train_select, X_train[:, index_feat]))\n",
    "        X_cv_select = np.column_stack((X_cv_select, X_cv[:, index_feat]))\n",
    "        \n",
    "        model = LogisticRegressionCustom(fit_intercept=False)\n",
    "        model.fit(X_train_select, y_train)\n",
    "\n",
    "        y_hat_cv = model.predict_proba(X_cv_select)[:,1]\n",
    "        cv_score = log_loss(y_cv, y_hat_cv)\n",
    "        \n",
    "        # The standard errors of the coefficients are the square roots of the \n",
    "        # diagonals of the covariance matrix of the coefficients. The usual \n",
    "        # estimate of that covariance matrix is the inverse of the negative of \n",
    "        # the matrix of second partial derivatives of the log of the likelihood \n",
    "        # with respect to the coefficients, evaluated at the values of the \n",
    "        # coefficients that maximize the likelihood. \n",
    "        \n",
    "        # with X_cv_select => x\n",
    "        # se = sqrt(diag((x.T @ v @ x)^-1))\n",
    "        # v is the diagonal of the covariance matrix of the coefficients\n",
    "        \n",
    "        v = (1 - y_hat_cv) * y_hat_cv\n",
    "        xTv = np.zeros((X_cv_select.T.shape))\n",
    "        # this loop is equivalent to np.diagflat((1 - y_hat_cv) * y_hat_cv)\n",
    "        for i, value in enumerate(v):\n",
    "            xTv[:,i] = X_cv_select.T[:,i] * value\n",
    "        xTvx = xTv @ X_cv_select\n",
    "        \n",
    "        try:\n",
    "            se = np.sqrt(abs(np.diag(np.linalg.inv(xTvx))))\n",
    "            t_stat = model.coefs_ / se\n",
    "            p_values = 2 * (1 - stats.t.cdf(np.abs(t_stat), m - n))[-1]\n",
    "        except:\n",
    "            # we can't inverse the matrix, let's take a default p_value\n",
    "            p_values = 0.2\n",
    "                \n",
    "        # get p_value of last feature\n",
    "        # if p_value > 0.1, remove feature\n",
    "        # if p_value is small, check is score gets better\n",
    "        if p_values > 0.1:\n",
    "            keep = False\n",
    "        elif cv_score < best_logloss:\n",
    "            keep = True\n",
    "            best_logloss = cv_score\n",
    "\n",
    "        if not keep:\n",
    "            X_train_select = X_train_select[:, :-1]\n",
    "            X_cv_select = X_cv_select[:, :-1]\n",
    "            greedy_subset.remove(index_feat)\n",
    "        \n",
    "        if verbose:\n",
    "            print('feature at index {} is kept : {}, score : {}'.format(index_feat, keep, cv_score))\n",
    "\n",
    "    return greedy_subset"
   ]
  },
  {
   "cell_type": "code",
   "execution_count": 13,
   "metadata": {
    "collapsed": false
   },
   "outputs": [
    {
     "name": "stdout",
     "output_type": "stream",
     "text": [
      "Number of features in best_subset : 56\n"
     ]
    }
   ],
   "source": [
    "# let's do feature selection with Logistic Regression on the first fold\n",
    "train_index, cv_index = splits[0]\n",
    "\n",
    "y_train, y_cv = y_true[train_index], y_true[cv_index]\n",
    "X_train, X_cv = df_train.loc[train_index].values, df_train.loc[cv_index].values\n",
    "\n",
    "# put verbose to true if you want more info\n",
    "best_subset = mixed_feature_selection(X_train, y_train, X_cv, y_cv, verbose=False)\n",
    "print('Number of features in best_subset : {}'.format(len(best_subset)))"
   ]
  },
  {
   "cell_type": "markdown",
   "metadata": {},
   "source": [
    "### Re-train Logistic Regression with best subset"
   ]
  },
  {
   "cell_type": "code",
   "execution_count": 42,
   "metadata": {
    "collapsed": false
   },
   "outputs": [
    {
     "name": "stdout",
     "output_type": "stream",
     "text": [
      "-------------------------------------------------------------------------------------------\n",
      "|     FOLD     |    TRAIN     |      CV      |    START     |     END      |     DUR      |\n",
      "-------------------------------------------------------------------------------------------\n",
      "|      0       |   0.48286    |   0.48345    |   16:22:56   |   16:22:56   |   00:00:00   |\n",
      "|      1       |   0.48207    |   0.48505    |   16:22:59   |   16:23:00   |   00:00:00   |\n",
      "|      2       |   0.48373    |   0.48172    |   16:23:03   |   16:23:03   |   00:00:00   |\n",
      "-------------------------------------------------------------------------------------------\n",
      "|              |   0.48289    |   0.48341    |   16:22:53   |   16:23:03   |   00:00:09   |\n",
      "-------------------------------------------------------------------------------------------\n",
      "\n",
      "We manage to get the same score with only 11% of the 490 original features\n"
     ]
    }
   ],
   "source": [
    "start_model = datetime.now()\n",
    "\n",
    "scores_train = []\n",
    "scores_cv = []\n",
    "\n",
    "y_test_hat = np.zeros((df_test.shape[0], n_folds))\n",
    "\n",
    "for fold, (train_index, cv_index) in enumerate(splits):\n",
    "    \n",
    "    y_train, y_cv = y_true[train_index], y_true[cv_index]\n",
    "    \n",
    "    X_train = df_train.loc[train_index].iloc[:, best_subset].values\n",
    "    X_cv = df_train.loc[cv_index].iloc[:, best_subset].values\n",
    "    \n",
    "    X_test = df_test.iloc[:, best_subset].values\n",
    "    \n",
    "    start_training = datetime.now()\n",
    "    \n",
    "    model = LogisticRegressionCustom(fit_intercept=True)\n",
    "    model.fit(X_train, y_train)\n",
    "    \n",
    "    end_training = datetime.now()\n",
    "    \n",
    "    y_train_hat = model.predict_proba(X_train)[:,1]\n",
    "    y_cv_hat = model.predict_proba(X_cv)[:,1]\n",
    "    y_test_hat[:, fold] = model.predict_proba(X_test)[:,1]\n",
    "    \n",
    "    scores_train.append(log_loss(y_train, y_train_hat))\n",
    "    scores_cv.append(log_loss(y_cv, y_cv_hat))\n",
    "    \n",
    "    print_.score(fold, scores_train[fold], scores_cv[fold], start_training, end_training)\n",
    "end_model = datetime.now()\n",
    "print_.score('', np.mean(scores_train), np.mean(scores_cv), start_model, end_model)\n",
    "message = '\\nWe manage to get the same score with only {:.0f}% of the {} original features'\n",
    "print(message.format((len(best_subset) / df_train.shape[1])*100, df_train.shape[1]))\n",
    "\n",
    "# make submit\n",
    "name = 'LogisticRegression_best_subset'\n",
    "preds = y_test_hat.mean(axis=1)\n",
    "score = np.mean(scores_cv)\n",
    "date = datetime.now().strftime(\"%Y.%m.%d\")\n",
    "make_submit(name, id_test, preds, score, date)"
   ]
  },
  {
   "cell_type": "markdown",
   "metadata": {},
   "source": [
    "# Let's go beyond probabilities"
   ]
  },
  {
   "cell_type": "code",
   "execution_count": 30,
   "metadata": {
    "collapsed": false
   },
   "outputs": [
    {
     "data": {
      "image/png": "[encoded data removed]",
      "text/plain": [
       "<matplotlib.figure.Figure at 0x65e8ae3278>"
      ]
     },
     "metadata": {},
     "output_type": "display_data"
    }
   ],
   "source": [
    "y_alea = np.ones(len(y_cv))\n",
    "y_alea[:] = np.random.uniform(0, 1, len(y_cv))\n",
    "\n",
    "alea_fpr, alea_tpr, threshold = roc_curve(y_cv, y_alea)\n",
    "alea_roc_auc = auc(alea_fpr, alea_tpr)\n",
    "\n",
    "fpr, tpr, threshold = roc_curve(y_cv, y_cv_hat)\n",
    "roc_auc = auc(fpr, tpr)\n",
    "\n",
    "plt.title('Receiver Operating Characteristic')\n",
    "plt.plot(fpr, tpr, 'b', label = 'y_cv_hat AUC = %0.2f' % roc_auc)\n",
    "plt.plot(alea_fpr, alea_tpr, 'r--', label = 'Random predictions AUC = %0.2f' % alea_roc_auc)\n",
    "plt.legend(loc = 'lower right')\n",
    "plt.xlim([0, 1])\n",
    "plt.ylim([0, 1])\n",
    "plt.ylabel('True Positive Rate')\n",
    "plt.xlabel('False Positive Rate')\n",
    "plt.show()"
   ]
  },
  {
   "cell_type": "markdown",
   "metadata": {},
   "source": [
    "#### Let's opitmize the recall and the precision ( /!\\ precision is not the accuracy )"
   ]
  },
  {
   "cell_type": "code",
   "execution_count": 31,
   "metadata": {
    "collapsed": false
   },
   "outputs": [
    {
     "data": {
      "image/png": "[encoded data removed]",
      "text/plain": [
       "<matplotlib.figure.Figure at 0x65eba6c470>"
      ]
     },
     "metadata": {},
     "output_type": "display_data"
    }
   ],
   "source": [
    "def precision(y_true, y_hat):\n",
    "    tp = ((y_true == 1) & (y_hat == 1)).sum()\n",
    "    fp = ((y_true == 0) & (y_hat == 1)).sum()\n",
    "    return tp / (tp + fp)\n",
    "\n",
    "def recall(y_true, y_hat):\n",
    "    tp = ((y_true == 1) & (y_hat == 1)).sum()\n",
    "    fn = ((y_true == 1) & (y_hat == 0)).sum()\n",
    "    return tp / (tp + fn)\n",
    "\n",
    "thresholds = np.arange(0, 1, 0.01)\n",
    "\n",
    "best_precision = dict()\n",
    "for th in thresholds:\n",
    "    best_precision[th] = precision(y_cv, y_cv_hat > th)\n",
    "    \n",
    "best_recall = dict()\n",
    "for th in thresholds:\n",
    "    best_recall[th] = recall(y_cv, y_cv_hat > th)\n",
    "\n",
    "plt.plot(thresholds, list(best_precision.values()), label='precision')\n",
    "plt.plot(thresholds, list(best_recall.values()), label='recall')\n",
    "plt.legend(loc = 'lower left')\n",
    "plt.xlim([0, 1])\n",
    "plt.ylim([0, 1.1])\n",
    "plt.ylabel('Thresholds')\n",
    "plt.xlabel('Scores')\n",
    "plt.show()"
   ]
  },
  {
   "cell_type": "code",
   "execution_count": 32,
   "metadata": {
    "collapsed": false,
    "scrolled": true
   },
   "outputs": [
    {
     "name": "stdout",
     "output_type": "stream",
     "text": [
      "The threshold who gives the best recal and precision is : 0.65\n"
     ]
    }
   ],
   "source": [
    "intersection = []\n",
    "for x, y in list(zip(best_precision.values(), best_recall.values())):\n",
    "    intersection.append(abs(x-y))\n",
    "best_threshold = thresholds[np.argmin(intersection)]\n",
    "print('The threshold who gives the best recal and precision is : {}'.format(best_threshold))"
   ]
  },
  {
   "cell_type": "markdown",
   "metadata": {},
   "source": [
    "#### Confusion matrix with best_threshold "
   ]
  },
  {
   "cell_type": "code",
   "execution_count": 33,
   "metadata": {
    "collapsed": false
   },
   "outputs": [
    {
     "name": "stdout",
     "output_type": "stream",
     "text": [
      "                               Predicted condition\n",
      "                       ----------------------------------\n",
      "                       |    Positive    |    Negative   |\n",
      "          -----------------------------------------------\n",
      "   True   |  Positive  |         23991  |         5016  |\n",
      "Condition |  Negative  |          4851  |         4249  |\n",
      "          -----------------------------------------------\n"
     ]
    }
   ],
   "source": [
    "TP = ((y_cv == 1) & ((y_cv_hat > best_threshold) == 1)).sum()\n",
    "TN = ((y_cv == 0) & ((y_cv_hat > best_threshold) == 0)).sum()\n",
    "FP = ((y_cv == 0) & ((y_cv_hat > best_threshold) == 1)).sum()\n",
    "FN = ((y_cv == 1) & ((y_cv_hat > best_threshold) == 0)).sum()\n",
    "\n",
    "print('                               Predicted condition')\n",
    "print('                       ----------------------------------')\n",
    "print('                       |    Positive    |    Negative   |')\n",
    "print('          -----------------------------------------------')\n",
    "print('   True   |  Positive  |    {: 10d}  |   {: 10d}  |'.format(TP, FN))\n",
    "print('Condition |  Negative  |    {: 10d}  |   {: 10d}  |'.format(FP, TN))\n",
    "print('          -----------------------------------------------')"
   ]
  },
  {
   "cell_type": "code",
   "execution_count": null,
   "metadata": {
    "collapsed": true
   },
   "outputs": [],
   "source": []
  },
  {
   "cell_type": "code",
   "execution_count": null,
   "metadata": {
    "collapsed": true
   },
   "outputs": [],
   "source": []
  }
 ],
 "metadata": {
  "kernelspec": {
   "display_name": "Python 3",
   "language": "python",
   "name": "python3"
  },
  "language_info": {
   "codemirror_mode": {
    "name": "ipython",
    "version": 3
   },
   "file_extension": ".py",
   "mimetype": "text/x-python",
   "name": "python",
   "nbconvert_exporter": "python",
   "pygments_lexer": "ipython3",
   "version": "3.6.0"
  }
 },
 "nbformat": 4,
 "nbformat_minor": 1
}
